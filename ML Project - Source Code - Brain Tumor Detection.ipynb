{
  "nbformat": 4,
  "nbformat_minor": 0,
  "metadata": {
    "kernelspec": {
      "display_name": "Python 3",
      "language": "python",
      "name": "python3"
    },
    "language_info": {
      "codemirror_mode": {
        "name": "ipython",
        "version": 3
      },
      "file_extension": ".py",
      "mimetype": "text/x-python",
      "name": "python",
      "nbconvert_exporter": "python",
      "pygments_lexer": "ipython3",
      "version": "3.6.7"
    },
    "colab": {
      "name": "ML_Project_Brain_Tumor_Detection.ipynb",
      "provenance": [],
      "collapsed_sections": []
    }
  },
  "cells": [
    {
      "cell_type": "code",
      "metadata": {
        "id": "9Ibs__57Atyf",
        "colab_type": "code",
        "colab": {}
      },
      "source": [
        "from keras.models import Sequential\n",
        "\n",
        "from keras.layers import Conv2D\n",
        "from keras.layers import MaxPooling2D\n",
        "from keras.layers import Flatten\n",
        "from keras.layers import Dropout\n",
        "from keras.layers import Dense\n",
        "\n",
        "from sklearn.model_selection import train_test_split\n",
        "from sklearn.metrics import f1_score\n",
        "from sklearn.utils import shuffle\n",
        "\n",
        "import cv2\n",
        "import numpy as np\n",
        "import matplotlib.pyplot as plt\n",
        "from os import listdir"
      ],
      "execution_count": 2,
      "outputs": []
    },
    {
      "cell_type": "code",
      "metadata": {
        "id": "2rXBGuGPvRwU",
        "colab_type": "code",
        "colab": {
          "base_uri": "https://localhost:8080/",
          "height": 121
        },
        "outputId": "36074eea-efff-4775-cd23-b7c6eb3d4f03"
      },
      "source": [
        "from google.colab import drive\n",
        "drive.mount('/content/drive')"
      ],
      "execution_count": 1,
      "outputs": [
        {
          "output_type": "stream",
          "text": [
            "Go to this URL in a browser: https://accounts.google.com/o/oauth2/auth?client_id=947318989803-6bn6qk8qdgf4n4g3pfee6491hc0brc4i.apps.googleusercontent.com&redirect_uri=urn%3aietf%3awg%3aoauth%3a2.0%3aoob&scope=email%20https%3a%2f%2fwww.googleapis.com%2fauth%2fdocs.test%20https%3a%2f%2fwww.googleapis.com%2fauth%2fdrive%20https%3a%2f%2fwww.googleapis.com%2fauth%2fdrive.photos.readonly%20https%3a%2f%2fwww.googleapis.com%2fauth%2fpeopleapi.readonly&response_type=code\n",
            "\n",
            "Enter your authorization code:\n",
            "4/4AFiKbmZ_lFBZu8q5oYctI7NtrMscTncZBp_tEH2xaPVGpK_OEDYNHc\n",
            "Mounted at /content/drive\n"
          ],
          "name": "stdout"
        }
      ]
    },
    {
      "cell_type": "code",
      "metadata": {
        "id": "9we2kxravc5P",
        "colab_type": "code",
        "colab": {}
      },
      "source": [
        "!unzip -uq \"/content/drive/My Drive/ML Project/Brain Tumor Detection/Real Dataset\" -d \"/content/drive/My Drive/ML Project/Brain Tumor Detection\""
      ],
      "execution_count": 3,
      "outputs": []
    },
    {
      "cell_type": "code",
      "metadata": {
        "id": "HBqAZjCBAtyu",
        "colab_type": "code",
        "colab": {}
      },
      "source": [
        "def data_summary(yes_path, no_path):\n",
        "\n",
        "    positiveSamples = len(listdir(yes_path))\n",
        "    negativeSamples = len(listdir(no_path))\n",
        "    samples = positiveSamples + negativeSamples\n",
        "\n",
        "    positiveSamplesPercentage = (positiveSamples * 100.0) / samples\n",
        "    negativeSamplesPercentage = (negativeSamples * 100.0) / samples\n",
        "\n",
        "    print('Data Summary \\n')\n",
        "    print('Number of Images : ', samples)\n",
        "    print('Number of Images with Label - yes : ', positiveSamples)\n",
        "    print('Number of Images with Label - no : ', negativeSamples)\n",
        "    print('Percentage of Images with Label - yes : %.2f' % positiveSamplesPercentage, '%')\n",
        "    print('Percentage of Images with Label - no : %.2f' % negativeSamplesPercentage,'%')"
      ],
      "execution_count": 4,
      "outputs": []
    },
    {
      "cell_type": "code",
      "metadata": {
        "id": "oBCVAlJQwunO",
        "colab_type": "code",
        "colab": {}
      },
      "source": [
        "main_path = \"/content/drive/My Drive/ML Project/Brain Tumor Detection/Real Dataset\"\n",
        "yes_path = main_path + '/yes'\n",
        "no_path = main_path + '/no'"
      ],
      "execution_count": 5,
      "outputs": []
    },
    {
      "cell_type": "code",
      "metadata": {
        "id": "pREqxa2Hw-hi",
        "colab_type": "code",
        "colab": {
          "base_uri": "https://localhost:8080/",
          "height": 134
        },
        "outputId": "c98653fb-d03b-4527-8353-60d6981f4ba4"
      },
      "source": [
        "data_summary(yes_path, no_path)"
      ],
      "execution_count": 6,
      "outputs": [
        {
          "output_type": "stream",
          "text": [
            "Data Summary \n",
            "\n",
            "Number of Images :  2264\n",
            "Number of Images with Label - yes :  1239\n",
            "Number of Images with Label - no :  1025\n",
            "Percentage of Images with Label - yes : 54.73 %\n",
            "Percentage of Images with Label - no : 45.27 %\n"
          ],
          "name": "stdout"
        }
      ]
    },
    {
      "cell_type": "markdown",
      "metadata": {
        "id": "sKB_tw7U_ASU",
        "colab_type": "text"
      },
      "source": [
        "## Image Thresholding"
      ]
    },
    {
      "cell_type": "code",
      "metadata": {
        "id": "7tjTv1Mr6iuj",
        "colab_type": "code",
        "colab": {}
      },
      "source": [
        "def img_thresholding(image) :\n",
        "    \n",
        "    # Convert the image to grayscale, and blur it slightly\n",
        "    gray = cv2.cvtColor(image, cv2.COLOR_BGR2GRAY)\n",
        "    \n",
        "    #threshoilding the greyscaled image - cv2.adaptiveThreshold outperforms cv2.THRESH_BINARY\n",
        "    thresh = cv2.threshold(gray, 45, 255, cv2.THRESH_BINARY)[1]\n",
        "\n",
        "    #Gives src.type() == CV_8UC1 error\n",
        "    #thresh = cv2.adaptiveThreshold(image,255,cv2.ADAPTIVE_THRESH_GAUSSIAN_C, cv2.THRESH_BINARY,11,2)\n",
        "    \n",
        "    #erodes the foregriund boundary\n",
        "    thresh = cv2.erode(thresh, None, iterations=2)\n",
        "\n",
        "    #remove small regions of noises\n",
        "    thresh = cv2.dilate(thresh, None, iterations=2)  \n",
        "\n",
        "    new_image = thresh\n",
        "\n",
        "    return new_image"
      ],
      "execution_count": 7,
      "outputs": []
    },
    {
      "cell_type": "markdown",
      "metadata": {
        "id": "pRpIo0RA_Flw",
        "colab_type": "text"
      },
      "source": [
        "## Loading"
      ]
    },
    {
      "cell_type": "code",
      "metadata": {
        "id": "i-8WTSBm-8T8",
        "colab_type": "code",
        "colab": {}
      },
      "source": [
        "def load_data(dir_list, image_size):\n",
        "\n",
        "    # load all images in a directory\n",
        "    images = []\n",
        "    labels = []\n",
        "    image_width, image_height = image_size\n",
        "    \n",
        "    for directory in dir_list:\n",
        "        for filename in listdir(directory):\n",
        "\n",
        "            image = cv2.imread(directory + '/' + filename)\n",
        "\n",
        "            image = img_thresholding(image)\n",
        "\n",
        "            #cv2.INTER_CUBIC – a bicubic interpolation over 4×4 pixel neighborhood\n",
        "            image = cv2.resize(image, dsize=(image_width, image_height), interpolation=cv2.INTER_CUBIC)\n",
        "\n",
        "            image = image/255\n",
        "            \n",
        "            images.append(image)\n",
        "\n",
        "            if directory[-3:] == 'yes':\n",
        "                labels.append([1])\n",
        "            else:\n",
        "                labels.append([0])\n",
        "                \n",
        "    images = np.array(images)\n",
        "    labels = np.array(labels)\n",
        "    \n",
        "    images, labels = shuffle(images, labels)\n",
        "    \n",
        "    return images, labels"
      ],
      "execution_count": 8,
      "outputs": []
    },
    {
      "cell_type": "code",
      "metadata": {
        "id": "Int3Z27n-8da",
        "colab_type": "code",
        "colab": {}
      },
      "source": [
        "width, height = (256, 256)\n",
        "\n",
        "images, labels = load_data([yes_path, no_path], (width, height))"
      ],
      "execution_count": 9,
      "outputs": []
    },
    {
      "cell_type": "code",
      "metadata": {
        "id": "4JKwobN_-8IU",
        "colab_type": "code",
        "colab": {}
      },
      "source": [
        "from tensorflow.keras import backend\n",
        "\n",
        "if backend.image_data_format() == 'channels_first':\n",
        "    images = images.reshape(images.shape[0], 1, 256, 256)\n",
        "    input_shape = (1, 256, 256)\n",
        "\n",
        "else:\n",
        "    images = images.reshape(images.shape[0], 256, 256, 1)\n",
        "    input_shape = (256, 256, 1)\n",
        "    \n",
        "images = images.astype('float32')"
      ],
      "execution_count": 10,
      "outputs": []
    },
    {
      "cell_type": "code",
      "metadata": {
        "id": "4RKd4tF5Kjr1",
        "colab_type": "code",
        "colab": {}
      },
      "source": [
        "train_images, test_images, train_labels, test_labels = train_test_split(images, labels, test_size = 0.2)"
      ],
      "execution_count": 11,
      "outputs": []
    },
    {
      "cell_type": "code",
      "metadata": {
        "id": "KKOONHN-K52q",
        "colab_type": "code",
        "colab": {
          "base_uri": "https://localhost:8080/",
          "height": 50
        },
        "outputId": "4df81cd6-75d0-45ba-b23d-888fe2dd946d"
      },
      "source": [
        "print('Number of Training Samples : ', train_images.shape[0])\n",
        "print('Number of Testing Samples : ', test_images.shape[0])"
      ],
      "execution_count": 12,
      "outputs": [
        {
          "output_type": "stream",
          "text": [
            "Number of Training Samples :  1811\n",
            "Number of Testing Samples :  453\n"
          ],
          "name": "stdout"
        }
      ]
    },
    {
      "cell_type": "code",
      "metadata": {
        "id": "kiXUs87rLfYC",
        "colab_type": "code",
        "colab": {}
      },
      "source": [
        "model = Sequential()\n",
        "\n",
        "model.add(Conv2D(32, kernel_size=(3,3), activation='relu', input_shape=input_shape))\n",
        "model.add(MaxPooling2D(pool_size=(2, 2)))\n",
        "model.add(Dropout(0.25))\n",
        "\n",
        "model.add(Conv2D(32, kernel_size=(3,3), activation='relu', input_shape=input_shape))\n",
        "model.add(MaxPooling2D(pool_size=(2, 2)))\n",
        "model.add(Dropout(0.25))\n",
        "\n",
        "model.add(Flatten())\n",
        "\n",
        "model.add(Dense(32, activation='relu'))\n",
        "model.add(Dropout(0.2))\n",
        "\n",
        "model.add(Dense(1, activation='sigmoid'))"
      ],
      "execution_count": 13,
      "outputs": []
    },
    {
      "cell_type": "code",
      "metadata": {
        "id": "btEfPJTDR6pw",
        "colab_type": "code",
        "colab": {}
      },
      "source": [
        "model.compile(optimizer='rmsprop', loss='binary_crossentropy', metrics=['accuracy'])"
      ],
      "execution_count": 14,
      "outputs": []
    },
    {
      "cell_type": "code",
      "metadata": {
        "id": "B48UIWsnSFNe",
        "colab_type": "code",
        "colab": {
          "base_uri": "https://localhost:8080/",
          "height": 370
        },
        "outputId": "1a9c4d88-0921-4a37-f7bb-0b508ec8b7ec"
      },
      "source": [
        "model.fit(train_images, train_labels, batch_size=32, epochs=10)"
      ],
      "execution_count": 15,
      "outputs": [
        {
          "output_type": "stream",
          "text": [
            "Epoch 1/10\n",
            "57/57 [==============================] - 104s 2s/step - loss: 0.9965 - accuracy: 0.6499\n",
            "Epoch 2/10\n",
            "57/57 [==============================] - 104s 2s/step - loss: 0.5171 - accuracy: 0.7620\n",
            "Epoch 3/10\n",
            "57/57 [==============================] - 104s 2s/step - loss: 0.4487 - accuracy: 0.7918\n",
            "Epoch 4/10\n",
            "57/57 [==============================] - 103s 2s/step - loss: 0.3647 - accuracy: 0.8404\n",
            "Epoch 5/10\n",
            "57/57 [==============================] - 103s 2s/step - loss: 0.2824 - accuracy: 0.8807\n",
            "Epoch 6/10\n",
            "57/57 [==============================] - 104s 2s/step - loss: 0.1880 - accuracy: 0.9260\n",
            "Epoch 7/10\n",
            "57/57 [==============================] - 103s 2s/step - loss: 0.1177 - accuracy: 0.9575\n",
            "Epoch 8/10\n",
            "57/57 [==============================] - 105s 2s/step - loss: 0.0891 - accuracy: 0.9663\n",
            "Epoch 9/10\n",
            "57/57 [==============================] - 105s 2s/step - loss: 0.0514 - accuracy: 0.9840\n",
            "Epoch 10/10\n",
            "57/57 [==============================] - 104s 2s/step - loss: 0.0334 - accuracy: 0.9884\n"
          ],
          "name": "stdout"
        },
        {
          "output_type": "execute_result",
          "data": {
            "text/plain": [
              "<tensorflow.python.keras.callbacks.History at 0x7f0b95efc710>"
            ]
          },
          "metadata": {
            "tags": []
          },
          "execution_count": 15
        }
      ]
    },
    {
      "cell_type": "code",
      "metadata": {
        "id": "Rhc3UGbOUrgE",
        "colab_type": "code",
        "colab": {
          "base_uri": "https://localhost:8080/",
          "height": 67
        },
        "outputId": "3101cd82-a019-406a-ef80-720b6efb6c12"
      },
      "source": [
        "results = model.evaluate(test_images, test_labels, batch_size=1)\n",
        "\n",
        "testLoss = results[0]\n",
        "testAccuracy = results[1]*100\n",
        "\n",
        "print('Test loss : %.2f' % testLoss)\n",
        "print('Test accuracy : %.2f' % testAccuracy, \"%\")"
      ],
      "execution_count": 19,
      "outputs": [
        {
          "output_type": "stream",
          "text": [
            "453/453 [==============================] - 9s 20ms/step - loss: 1.0767 - accuracy: 0.7770\n",
            "Test loss : 1.08\n",
            "Test accuracy : 77.70 %\n"
          ],
          "name": "stdout"
        }
      ]
    },
    {
      "cell_type": "code",
      "metadata": {
        "id": "dS_E4pIRUqaq",
        "colab_type": "code",
        "colab": {
          "base_uri": "https://localhost:8080/",
          "height": 34
        },
        "outputId": "74af850e-7256-474a-9ffe-21eda753a634"
      },
      "source": [
        "predicted_labels = model.predict(test_images)\n",
        "predicted_labels = (predicted_labels > 0.5)\n",
        "\n",
        "fmeasureScore = f1_score(test_labels, predicted_labels)\n",
        "print('F-measure Score : %.2f' % fmeasureScore)"
      ],
      "execution_count": 28,
      "outputs": [
        {
          "output_type": "stream",
          "text": [
            "F-measure Score : 0.80\n"
          ],
          "name": "stdout"
        }
      ]
    },
    {
      "cell_type": "code",
      "metadata": {
        "id": "ThkkKJ2bqnzC",
        "colab_type": "code",
        "colab": {
          "base_uri": "https://localhost:8080/",
          "height": 282
        },
        "outputId": "409a6f42-ddb2-4cb2-e1f3-032fbd09cc1e"
      },
      "source": [
        "import seaborn as ss\n",
        "from sklearn.metrics import confusion_matrix\n",
        "\n",
        "xAxisLabels = ['No Cancer', 'Cancer']\n",
        "yAxisLabels = ['No Cancer', 'Cancer']\n",
        "\n",
        "confusionMatrix = confusion_matrix(test_labels, predicted_labels)\n",
        "ss.heatmap(confusionMatrix, annot = True, xticklabels=xAxisLabels, yticklabels=yAxisLabels)"
      ],
      "execution_count": 29,
      "outputs": [
        {
          "output_type": "execute_result",
          "data": {
            "text/plain": [
              "<matplotlib.axes._subplots.AxesSubplot at 0x7f0b909312b0>"
            ]
          },
          "metadata": {
            "tags": []
          },
          "execution_count": 29
        },
        {
          "output_type": "display_data",
          "data": {
            "image/png": "[encoded data removed]",
            "text/plain": [
              "<Figure size 432x288 with 2 Axes>"
            ]
          },
          "metadata": {
            "tags": [],
            "needs_background": "light"
          }
        }
      ]
    },
    {
      "cell_type": "code",
      "metadata": {
        "id": "nwaHuBAraSEW",
        "colab_type": "code",
        "colab": {
          "base_uri": "https://localhost:8080/",
          "height": 50
        },
        "outputId": "69771eac-36ef-47f8-8ce1-a055cc4e19c2"
      },
      "source": [
        "identificationCorrect = confusionMatrix[0,0] + confusionMatrix[1,1]\n",
        "identificationIncorrect = confusionMatrix[0,1] + confusionMatrix[1,0]\n",
        "Identification = identificationCorrect + identificationIncorrect\n",
        "\n",
        "print('Correct : ', identificationCorrect)\n",
        "print('Incorrect : ', identificationIncorrect)"
      ],
      "execution_count": 31,
      "outputs": [
        {
          "output_type": "stream",
          "text": [
            "Correct :  352\n",
            "Incorrect :  101\n"
          ],
          "name": "stdout"
        }
      ]
    }
  ]
}